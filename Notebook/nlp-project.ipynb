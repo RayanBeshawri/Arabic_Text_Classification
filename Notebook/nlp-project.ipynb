{
 "cells": [
  {
   "cell_type": "markdown",
   "metadata": {
    "id": "V_nE0BLr8T9H",
    "jp-MarkdownHeadingCollapsed": true
   },
   "source": [
    "## Import necessary libraries"
   ]
  },
  {
   "cell_type": "code",
   "execution_count": null,
   "metadata": {
    "execution": {
     "iopub.execute_input": "2024-05-10T14:35:16.034163Z",
     "iopub.status.busy": "2024-05-10T14:35:16.033795Z",
     "iopub.status.idle": "2024-05-10T14:35:19.041204Z",
     "shell.execute_reply": "2024-05-10T14:35:19.040160Z",
     "shell.execute_reply.started": "2024-05-10T14:35:16.034135Z"
    },
    "id": "cmeg_xZi8T9I",
    "trusted": true
   },
   "outputs": [],
   "source": [
    "import os\n",
    "import pandas as pd\n",
    "import nltk\n",
    "from nltk.corpus import stopwords\n",
    "from nltk.tokenize import word_tokenize\n",
    "import re\n",
    "from sklearn.preprocessing import LabelEncoder\n",
    "from sklearn.model_selection import train_test_split\n",
    "from sklearn.pipeline import Pipeline\n",
    "from sklearn.feature_extraction.text import TfidfVectorizer\n",
    "from sklearn.linear_model import LogisticRegression\n",
    "from sklearn.metrics import classification_report"
   ]
  },
  {
   "cell_type": "markdown",
   "metadata": {
    "id": "VYEvJj_S8T9J",
    "jp-MarkdownHeadingCollapsed": true
   },
   "source": [
    "## Getting The Data"
   ]
  },
  {
   "cell_type": "code",
   "execution_count": null,
   "metadata": {
    "execution": {
     "iopub.execute_input": "2024-05-10T14:35:56.514786Z",
     "iopub.status.busy": "2024-05-10T14:35:56.514314Z"
    },
    "id": "VJCu6zRI8T9K",
    "trusted": true
   },
   "outputs": [],
   "source": [
    "# Function to load data from folders\n",
    "def load_data_from_folders(main_folder_path):\n",
    "    data = []\n",
    "    for category_folder in os.listdir(main_folder_path):\n",
    "        category_label = category_folder  # Assuming folder name is the category label\n",
    "        category_path = os.path.join(main_folder_path, category_folder)\n",
    "        for file_name in os.listdir(category_path):\n",
    "            file_path = os.path.join(category_path, file_name)\n",
    "            with open(file_path, 'r', encoding='utf-8') as file:\n",
    "                content = file.read()\n",
    "                data.append({'text': content, 'category': category_label})\n",
    "    return pd.DataFrame(data)\n",
    "\n",
    "# Main folder containing subfolders for each category\n",
    "main_folder_path = '/kaggle/input/sanad-dataset'\n",
    "\n",
    "# Load data from folders\n",
    "WholeData = load_data_from_folders(main_folder_path)"
   ]
  },
  {
   "cell_type": "code",
   "execution_count": null,
   "metadata": {
    "execution": {
     "iopub.execute_input": "2024-05-10T14:31:20.519189Z",
     "iopub.status.busy": "2024-05-10T14:31:20.518756Z",
     "iopub.status.idle": "2024-05-10T14:31:20.533234Z",
     "shell.execute_reply": "2024-05-10T14:31:20.531926Z",
     "shell.execute_reply.started": "2024-05-10T14:31:20.519157Z"
    },
    "id": "NmlqVb8F8T9K",
    "outputId": "975600b1-d702-4444-bc76-1685dbf15b09",
    "trusted": true
   },
   "outputs": [
    {
     "data": {
      "text/html": [
       "<div>\n",
       "<style scoped>\n",
       "    .dataframe tbody tr th:only-of-type {\n",
       "        vertical-align: middle;\n",
       "    }\n",
       "\n",
       "    .dataframe tbody tr th {\n",
       "        vertical-align: top;\n",
       "    }\n",
       "\n",
       "    .dataframe thead th {\n",
       "        text-align: right;\n",
       "    }\n",
       "</style>\n",
       "<table border=\"1\" class=\"dataframe\">\n",
       "  <thead>\n",
       "    <tr style=\"text-align: right;\">\n",
       "      <th></th>\n",
       "      <th>text</th>\n",
       "      <th>category</th>\n",
       "    </tr>\n",
       "  </thead>\n",
       "  <tbody>\n",
       "    <tr>\n",
       "      <th>0</th>\n",
       "      <td>دبي - \"الخليج\":حصدت شعاع كابيتال جائزة \"أفضل ش...</td>\n",
       "      <td>Finance</td>\n",
       "    </tr>\n",
       "    <tr>\n",
       "      <th>1</th>\n",
       "      <td>أبوظبي - علي أسعد: تراجعت أسواق المال في الدول...</td>\n",
       "      <td>Finance</td>\n",
       "    </tr>\n",
       "    <tr>\n",
       "      <th>2</th>\n",
       "      <td>استأنفت أسواق الأسهم المحلية أمس تحركها باتجاه...</td>\n",
       "      <td>Finance</td>\n",
       "    </tr>\n",
       "    <tr>\n",
       "      <th>3</th>\n",
       "      <td>دبي «الخليج»: أعلنت شركة تكافل الإمارات عن بدء...</td>\n",
       "      <td>Finance</td>\n",
       "    </tr>\n",
       "    <tr>\n",
       "      <th>4</th>\n",
       "      <td>تحتفل شركة طاقة الخليج البحرية، التي تتخذ من د...</td>\n",
       "      <td>Finance</td>\n",
       "    </tr>\n",
       "    <tr>\n",
       "      <th>5</th>\n",
       "      <td>تأجيل عمومية الدارأبوظبي - الخليج: تأجل اجتماع...</td>\n",
       "      <td>Finance</td>\n",
       "    </tr>\n",
       "    <tr>\n",
       "      <th>6</th>\n",
       "      <td>غلبت السلبية والإغلاقات الحمراء على مؤشرات أسو...</td>\n",
       "      <td>Finance</td>\n",
       "    </tr>\n",
       "    <tr>\n",
       "      <th>7</th>\n",
       "      <td>أبوظبي «الخليج»: ارتفع مؤشر سوق الإمارات المال...</td>\n",
       "      <td>Finance</td>\n",
       "    </tr>\n",
       "    <tr>\n",
       "      <th>8</th>\n",
       "      <td>أبوظبي:«الخليج» واصل مؤشر سوق أبوظبي للأوراق ا...</td>\n",
       "      <td>Finance</td>\n",
       "    </tr>\n",
       "    <tr>\n",
       "      <th>9</th>\n",
       "      <td>أبوظبي الخليج: أعاد بنك الشارقة شراء 5،5 مليون...</td>\n",
       "      <td>Finance</td>\n",
       "    </tr>\n",
       "  </tbody>\n",
       "</table>\n",
       "</div>"
      ],
      "text/plain": [
       "                                                text category\n",
       "0  دبي - \"الخليج\":حصدت شعاع كابيتال جائزة \"أفضل ش...  Finance\n",
       "1  أبوظبي - علي أسعد: تراجعت أسواق المال في الدول...  Finance\n",
       "2  استأنفت أسواق الأسهم المحلية أمس تحركها باتجاه...  Finance\n",
       "3  دبي «الخليج»: أعلنت شركة تكافل الإمارات عن بدء...  Finance\n",
       "4  تحتفل شركة طاقة الخليج البحرية، التي تتخذ من د...  Finance\n",
       "5  تأجيل عمومية الدارأبوظبي - الخليج: تأجل اجتماع...  Finance\n",
       "6  غلبت السلبية والإغلاقات الحمراء على مؤشرات أسو...  Finance\n",
       "7  أبوظبي «الخليج»: ارتفع مؤشر سوق الإمارات المال...  Finance\n",
       "8  أبوظبي:«الخليج» واصل مؤشر سوق أبوظبي للأوراق ا...  Finance\n",
       "9  أبوظبي الخليج: أعاد بنك الشارقة شراء 5،5 مليون...  Finance"
      ]
     },
     "execution_count": 23,
     "metadata": {},
     "output_type": "execute_result"
    }
   ],
   "source": [
    "WholeData.head(10)"
   ]
  },
  {
   "cell_type": "markdown",
   "metadata": {
    "id": "3YQqiK3n8T9L",
    "jp-MarkdownHeadingCollapsed": true
   },
   "source": [
    "## The Preproccing Stage"
   ]
  },
  {
   "cell_type": "markdown",
   "metadata": {
    "id": "dx5sl-px8T9L",
    "jp-MarkdownHeadingCollapsed": true
   },
   "source": [
    "### preprocessText Function"
   ]
  },
  {
   "cell_type": "code",
   "execution_count": null,
   "metadata": {
    "execution": {
     "iopub.execute_input": "2024-05-10T14:31:22.419029Z",
     "iopub.status.busy": "2024-05-10T14:31:22.418498Z",
     "iopub.status.idle": "2024-05-10T14:31:22.426870Z",
     "shell.execute_reply": "2024-05-10T14:31:22.425619Z",
     "shell.execute_reply.started": "2024-05-10T14:31:22.418993Z"
    },
    "id": "Z3DwQAl28T9L",
    "trusted": true
   },
   "outputs": [],
   "source": [
    "StopWords = set(stopwords.words('arabic'))\n",
    "\n",
    "ArabicDiacritics = r\"\"\"\n",
    "                             ّ    | # Tashdid\n",
    "                             َ    | # Fatha\n",
    "                             ً    | # Tanwin Fath\n",
    "                             ُ    | # Damma\n",
    "                             ٌ    | # Tanwin Damm\n",
    "                             ِ    | # Kasra\n",
    "                             ٍ    | # Tanwin Kasr\n",
    "                             ْ    | # Sukun\n",
    "                            ـ    | # Tatwil/Kashida\n",
    "                     \"\"\"\n",
    "\n",
    "RegrexPattern = (\n",
    "    \"\\U0001F600-\\U0001F64F\"+  # emoticons {😀 , 😆}\n",
    "    \"\\U0001F300-\\U0001F5FF\"+  # symbols & pictographs {🌍 , 🌞}\n",
    "    \"\\U0001F680-\\U0001F6FF\"+  # transport & map symbols {🚌 , 🚕 }\n",
    "    \"\\U0001F1E0-\\U0001F1FF\"   # flags (iOS) { 🇺🇸 , 🇨🇦 }\n",
    ")\n",
    "\n",
    "stop_words = list(StopWords)"
   ]
  },
  {
   "cell_type": "code",
   "execution_count": null,
   "metadata": {
    "execution": {
     "iopub.execute_input": "2024-05-10T14:31:22.698694Z",
     "iopub.status.busy": "2024-05-10T14:31:22.698283Z",
     "iopub.status.idle": "2024-05-10T14:31:22.705905Z",
     "shell.execute_reply": "2024-05-10T14:31:22.704727Z",
     "shell.execute_reply.started": "2024-05-10T14:31:22.698660Z"
    },
    "id": "PDcj2AgO8T9M",
    "trusted": true
   },
   "outputs": [],
   "source": [
    "def preprocessText(text):\n",
    "    # Remove special characters {& $ @} and punctuation {. , ? !}\n",
    "    text = re.sub(r'[^\\w\\s]', '', text)\n",
    "\n",
    "    # Remove Arabic diacritics\n",
    "    text = re.sub(ArabicDiacritics, '', text)\n",
    "\n",
    "    # Remove emoji characters\n",
    "    text = re.sub(f\"[{RegrexPattern}]\", '', text)\n",
    "\n",
    "    # Tokeniz The Sentence into tokens\n",
    "    Tokens = word_tokenize(text)\n",
    "\n",
    "    Tokens = [word for word in Tokens if word not in StopWords and len(word) > 1]\n",
    "\n",
    "    PreprocessedText = ' '.join(Tokens)\n",
    "\n",
    "    return PreprocessedText"
   ]
  },
  {
   "cell_type": "markdown",
   "metadata": {
    "id": "t-5b5Iny8T9M",
    "jp-MarkdownHeadingCollapsed": true
   },
   "source": [
    "### Now Apply The preprocessText Function At The Whole Data"
   ]
  },
  {
   "cell_type": "code",
   "execution_count": null,
   "metadata": {
    "execution": {
     "iopub.execute_input": "2024-05-10T14:34:25.903797Z",
     "iopub.status.busy": "2024-05-10T14:34:25.903390Z"
    },
    "id": "z0N1h_Yn8T9M",
    "trusted": true
   },
   "outputs": [],
   "source": [
    "WholeData['PreprocessedText'] = WholeData['text'].apply(preprocessText)"
   ]
  },
  {
   "cell_type": "code",
   "execution_count": null,
   "metadata": {
    "id": "9KgIE8I48T9M",
    "trusted": true
   },
   "outputs": [],
   "source": [
    "CleanData = WholeData[['category', 'PreprocessedText']]"
   ]
  },
  {
   "cell_type": "code",
   "execution_count": null,
   "metadata": {
    "id": "ZV9JF--o8T9N",
    "trusted": true
   },
   "outputs": [],
   "source": [
    "CleanData.sample(5)"
   ]
  },
  {
   "cell_type": "markdown",
   "metadata": {
    "id": "zHRpi-Cb8T9N",
    "jp-MarkdownHeadingCollapsed": true
   },
   "source": [
    "### Encoded the Category"
   ]
  },
  {
   "cell_type": "code",
   "execution_count": null,
   "metadata": {
    "execution": {
     "iopub.status.busy": "2024-05-10T14:30:49.098527Z",
     "iopub.status.idle": "2024-05-10T14:30:49.099043Z",
     "shell.execute_reply": "2024-05-10T14:30:49.098789Z",
     "shell.execute_reply.started": "2024-05-10T14:30:49.098769Z"
    },
    "id": "-5iw76O58T9N",
    "trusted": true
   },
   "outputs": [],
   "source": [
    "label_encoder = LabelEncoder()\n",
    "\n",
    "CleanData['Category'] = label_encoder.fit_transform(CleanData['category'])\n",
    "\n",
    "LabelMapping = dict(zip(CleanData['Category'], CleanData['category']))\n",
    "print(f\"Labels With Category :\\n{LabelMapping}\")"
   ]
  },
  {
   "cell_type": "code",
   "execution_count": null,
   "metadata": {
    "execution": {
     "iopub.status.busy": "2024-05-10T14:30:49.100208Z",
     "iopub.status.idle": "2024-05-10T14:30:49.100721Z",
     "shell.execute_reply": "2024-05-10T14:30:49.100485Z",
     "shell.execute_reply.started": "2024-05-10T14:30:49.100464Z"
    },
    "id": "26cznAcP8T9N",
    "trusted": true
   },
   "outputs": [],
   "source": [
    "FinalData= CleanData[['Category', 'PreprocessedText']]\n",
    "FinalData.sample(10)"
   ]
  },
  {
   "cell_type": "markdown",
   "metadata": {
    "id": "yda50DJx8T9N",
    "jp-MarkdownHeadingCollapsed": true
   },
   "source": [
    "### Splitting The Data"
   ]
  },
  {
   "cell_type": "code",
   "execution_count": null,
   "metadata": {
    "execution": {
     "iopub.status.busy": "2024-05-10T14:30:49.102625Z",
     "iopub.status.idle": "2024-05-10T14:30:49.103140Z",
     "shell.execute_reply": "2024-05-10T14:30:49.102901Z",
     "shell.execute_reply.started": "2024-05-10T14:30:49.102881Z"
    },
    "id": "m4etr1A-8T9N",
    "trusted": true
   },
   "outputs": [],
   "source": [
    "X_train, X_test, y_train, y_test = train_test_split(FinalData['PreprocessedText'] ,FinalData['Category'] , test_size=0.2, random_state=42)\n",
    "\n",
    "print(\"X_train set shape:\", X_train.shape)\n",
    "print(\"X_test set shape:\", X_test.shape)\n",
    "print(\"y_train set shape:\", y_train.shape)\n",
    "print(\"y_test set shape:\", y_test.shape)"
   ]
  },
  {
   "cell_type": "code",
   "execution_count": null,
   "metadata": {
    "execution": {
     "iopub.status.busy": "2024-05-10T14:30:49.105350Z",
     "iopub.status.idle": "2024-05-10T14:30:49.105876Z",
     "shell.execute_reply": "2024-05-10T14:30:49.105614Z",
     "shell.execute_reply.started": "2024-05-10T14:30:49.105594Z"
    },
    "id": "MK1i5f4m8T9O",
    "trusted": true
   },
   "outputs": [],
   "source": [
    "def Dictionary_based_Classifier(text):\n",
    "    # Keywords by category\n",
    "    category_keywords = {\n",
    "        'Finance': ['اقتصاد', 'بنك', 'المالية', 'استثمار', 'سوق'],\n",
    "        'Sports': ['كرة القدم', 'الألعاب الرياضية', 'دوري', 'مباراة', 'رياضة'],\n",
    "        'Tech': ['تكنولوجيا', 'برمجيات', 'الذكاء الاصطناعي', 'حوسبة', 'شبكات'],\n",
    "        'Medical': ['طب', 'صحة', 'دواء', 'علاج', 'مستشفى'],\n",
    "        'Politics': ['سياسة', 'انتخابات', 'حكومة', 'مجلس', 'قانون'],\n",
    "        'Culture': ['فن', 'مسرح', 'ثقافة', 'أدب', 'تاريخ'],\n",
    "        'Religion': ['دين', 'إسلام', 'مسجد', 'شريعة', 'صلاة']\n",
    "    }\n",
    "\n",
    "    # Tokenize the text\n",
    "    tokens = word_tokenize(text)\n",
    "\n",
    "    # Category scoring\n",
    "    scores = {category: 0 for category in category_keywords}\n",
    "\n",
    "    # Score each category based on occurrence of keywords\n",
    "    for token in tokens:\n",
    "        for category, keywords in category_keywords.items():\n",
    "            if token in keywords:\n",
    "                scores[category] += 1\n",
    "\n",
    "    # Determine the best category\n",
    "    predicted_category = max(scores, key=scores.get)\n",
    "    return predicted_category"
   ]
  },
  {
   "cell_type": "code",
   "execution_count": null,
   "metadata": {
    "execution": {
     "iopub.status.busy": "2024-05-10T14:30:49.107562Z",
     "iopub.status.idle": "2024-05-10T14:30:49.108089Z",
     "shell.execute_reply": "2024-05-10T14:30:49.107845Z",
     "shell.execute_reply.started": "2024-05-10T14:30:49.107805Z"
    },
    "id": "1hpCfXEb8T9O",
    "trusted": true
   },
   "outputs": [],
   "source": [
    "# Predict categories using the rule-based classifier\n",
    "Dictionary_based_predictions = [Dictionary_based_Classifier(text) for text in X_test]\n",
    "\n",
    "# Convert predicted categories from labels to integers using the label encoder\n",
    "Dictionary_based_predictions_encoded = label_encoder.transform(Dictionary_based_predictions)\n",
    "\n",
    "# Generate a classification report for the rule-based classifier\n",
    "Dictionary_based_report = classification_report(y_test, Dictionary_based_predictions_encoded)\n",
    "print(\"\\nDictionary-Based Classification Report:\")\n",
    "print(Dictionary_based_report)"
   ]
  },
  {
   "cell_type": "markdown",
   "metadata": {
    "id": "awLIfJq38T9O",
    "jp-MarkdownHeadingCollapsed": true
   },
   "source": [
    "## The Modelling Stage"
   ]
  },
  {
   "cell_type": "markdown",
   "metadata": {
    "id": "u-vkTwyC8T9O"
   },
   "source": [
    "### Logistic Regression"
   ]
  },
  {
   "cell_type": "code",
   "execution_count": null,
   "metadata": {
    "execution": {
     "iopub.status.busy": "2024-05-10T14:30:49.109578Z",
     "iopub.status.idle": "2024-05-10T14:30:49.109969Z",
     "shell.execute_reply": "2024-05-10T14:30:49.109767Z",
     "shell.execute_reply.started": "2024-05-10T14:30:49.109754Z"
    },
    "id": "SrJhoqIm8T9O",
    "trusted": true
   },
   "outputs": [],
   "source": [
    "pipeLine = Pipeline([\n",
    "    ('tfidf', TfidfVectorizer()),\n",
    "    ('clf', LogisticRegression())\n",
    "])"
   ]
  },
  {
   "cell_type": "markdown",
   "metadata": {
    "id": "5Zq3ddh48T9P"
   },
   "source": [
    "#### Train The Model"
   ]
  },
  {
   "cell_type": "code",
   "execution_count": null,
   "metadata": {
    "execution": {
     "iopub.status.busy": "2024-05-10T14:30:49.111257Z",
     "iopub.status.idle": "2024-05-10T14:30:49.111633Z",
     "shell.execute_reply": "2024-05-10T14:30:49.111465Z",
     "shell.execute_reply.started": "2024-05-10T14:30:49.111450Z"
    },
    "id": "cVltZOs08T9P",
    "trusted": true
   },
   "outputs": [],
   "source": [
    "pipeLine.fit(X_train, y_train)"
   ]
  },
  {
   "cell_type": "markdown",
   "metadata": {
    "id": "_KbFAFcB8T9P"
   },
   "source": [
    "#### Evaluate The Model"
   ]
  },
  {
   "cell_type": "code",
   "execution_count": null,
   "metadata": {
    "execution": {
     "iopub.status.busy": "2024-05-10T14:30:49.112851Z",
     "iopub.status.idle": "2024-05-10T14:30:49.113230Z",
     "shell.execute_reply": "2024-05-10T14:30:49.113062Z",
     "shell.execute_reply.started": "2024-05-10T14:30:49.113047Z"
    },
    "id": "G7QKFeu78T9Q",
    "trusted": true
   },
   "outputs": [],
   "source": [
    "Accuracy = pipeLine.score(X_test, y_test)\n",
    "print(f\"Accuracy:{round(Accuracy*100, 2)}%\")\n",
    "\n",
    "Predictions = pipeLine.predict(X_test)\n",
    "\n",
    "Report = classification_report(y_test, Predictions)\n",
    "print(\"\\nClassification Report:\")\n",
    "print(Report)"
   ]
  },
  {
   "cell_type": "markdown",
   "metadata": {
    "id": "nyOgyiLY8T9Q"
   },
   "source": [
    "## Team Members\n",
    "\n",
    "- **Rayan Beshawri**\n",
    "- **Abdulaziz Dawood**\n",
    "- **Ahmed Salem**\n",
    "- **Hassan Kalantan**"
   ]
  }
 ],
 "metadata": {
  "accelerator": "GPU",
  "colab": {
   "gpuType": "T4",
   "provenance": []
  },
  "kaggle": {
   "accelerator": "none",
   "dataSources": [
    {
     "datasetId": 819052,
     "sourceId": 1401544,
     "sourceType": "datasetVersion"
    }
   ],
   "dockerImageVersionId": 30684,
   "isGpuEnabled": false,
   "isInternetEnabled": true,
   "language": "python",
   "sourceType": "notebook"
  },
  "kernelspec": {
   "display_name": "Python 3",
   "name": "python3"
  },
  "language_info": {
   "codemirror_mode": {
    "name": "ipython",
    "version": 3
   },
   "file_extension": ".py",
   "mimetype": "text/x-python",
   "name": "python",
   "nbconvert_exporter": "python",
   "pygments_lexer": "ipython3",
   "version": "3.10.13"
  }
 },
 "nbformat": 4,
 "nbformat_minor": 0
}
